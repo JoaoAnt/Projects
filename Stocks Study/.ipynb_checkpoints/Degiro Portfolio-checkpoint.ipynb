{
 "cells": [
  {
   "cell_type": "markdown",
   "metadata": {},
   "source": [
    "# <center>Exponential Moving Average stocks, and 15 days experiment</center>\n",
    "\n",
    "**Author:** João António - joaoantant@gmail.com \\& github.com/JoaoAnt/.\n",
    "\n",
    "**The ipybn can be found in:** the Github in the WaddlePortfolio/Projects."
   ]
  },
  {
   "cell_type": "markdown",
   "metadata": {},
   "source": [
    "# Degiro\n",
    "\n",
    "Degiro is a Dutch brokerage company, where Europeans can participate and are also one of the\n",
    "options with lesser values of commissions.\n",
    "\n",
    "They have a commission of 0.50 e + USD 0.004/action for buying and the same value for\n",
    "selling the action for American stocks.\n",
    "\n",
    "I’m choosing America, because it is the minimum commission, and also because it is easy to\n",
    "get data from.\n",
    "\n",
    "If the stock is not from the EFT free pool, extra commissions take place, the NASDAQ is one of\n",
    "those.\n",
    "\n",
    "# Obtain Data\n",
    "All the data is obtained in Alpha Vantage, to use it it is required a Key, that can be obtained free at\n",
    "their site, one key for email. Every key can use five calls by the minute, and five hundred calls by\n",
    "day.\n",
    "\n",
    "To collect data is only required the tokens of the respective stock, various sites present an\n",
    "extensive list.\n",
    "\n",
    "# Exponential Moving Average\n",
    "The Exponential Moving Average (EMA) is a type of technical analysis and is used in countless\n",
    "technical indicators. In a Simple Moving Average, each value in the period carries equal weight,\n",
    "and values outside of the period are not included in the average.\n",
    "\n",
    "However, the Exponential Moving Average is a cumulative calculation, including all data. Past\n",
    "values have a diminishing contribution to the average, while more recent values have a greater\n",
    "contribution. This method allows the moving average to be more responsive to changes in the\n",
    "data. Making the EMA method a very good indicator for long periods, for example, days or\n",
    "months.\n",
    "\n",
    "As for the mathematical description of the method:\n",
    "\n",
    "$$EMA_{Today}=Value_{Today} \\times \\frac{Smoothing}{1+Days}+EMA_{Yesterday}\\times(1-\\frac{Smoothing}{1+Days})$$"
   ]
  },
  {
   "cell_type": "code",
   "execution_count": 1,
   "metadata": {},
   "outputs": [],
   "source": [
    "import matplotlib.pyplot as plt\n",
    "import pandas as pd\n",
    "from alpha_vantage.timeseries import TimeSeries\n",
    "from time import sleep\n",
    "import csv\n",
    "ts = TimeSeries(key=AlphaVantageKey,output_format='pandas')\n",
    "counter=0;"
   ]
  },
  {
   "cell_type": "markdown",
   "metadata": {},
   "source": [
    "## Functions"
   ]
  },
  {
   "cell_type": "code",
   "execution_count": 2,
   "metadata": {},
   "outputs": [],
   "source": [
    "def Analyse(ticker, counter, action):\n",
    "    counter+=1\n",
    "    if counter % 5==0:\n",
    "        sleep(60)\n",
    "    df, meta_data = ts.get_daily(symbol=ticker,outputsize='full')\n",
    "    df = df[['4. close']]\n",
    "    df.reset_index(level=0, inplace=True)\n",
    "    df.columns=['ds','y']\n",
    "    exp1 = df.y.ewm(span=12, adjust=False).mean()\n",
    "    exp2 = df.y.ewm(span=26, adjust=False).mean()\n",
    "    if action=='buy':\n",
    "        if exp1.iloc[-2]<exp2.iloc[-2]:\n",
    "            if exp1.iloc[-1]>=exp2.iloc[-1]:\n",
    "                print('Buy',ticker,'@',format((df['y'].iloc[-1]+df['y'].iloc[-2])/2,'.2f'))\n",
    "    elif action=='sell':\n",
    "        if exp1.iloc[-1]<=exp2.iloc[-1]:\n",
    "            print('Sell',ticker,'@',format((df['y'].iloc[-1]+df['y'].iloc[-2])/2,'.2f'))\n",
    "    print(ticker)    \n",
    "    return (counter)"
   ]
  },
  {
   "cell_type": "markdown",
   "metadata": {},
   "source": [
    "## To Sell"
   ]
  },
  {
   "cell_type": "code",
   "execution_count": 3,
   "metadata": {},
   "outputs": [
    {
     "name": "stdout",
     "output_type": "stream",
     "text": [
      "ENT\n",
      "PXS\n"
     ]
    }
   ],
   "source": [
    "f = open('sell.csv', \"r\")\n",
    "tickers = f.read().split(\"\\n\")\n",
    "for i in range(0,(len(tickers)-1)):\n",
    "    ticker = tickers[i]\n",
    "    counter = Analyse(ticker, counter, 'sell')"
   ]
  },
  {
   "cell_type": "markdown",
   "metadata": {},
   "source": [
    "## To Buy"
   ]
  },
  {
   "cell_type": "code",
   "execution_count": 4,
   "metadata": {
    "scrolled": false
   },
   "outputs": [],
   "source": [
    "if i < 1:\n",
    "    f = open('buy.csv', \"r\")\n",
    "    tickers = f.read().split(\"\\n\")\n",
    "    for i in range(0,(len(tickers)-1)):\n",
    "        ticker = tickers[i]\n",
    "        counter = Analyse(ticker, counter, 'buy')"
   ]
  },
  {
   "cell_type": "markdown",
   "metadata": {},
   "source": [
    "# Algorithm\n",
    "* Obtain tokens, for NASDAQ, and analyze behaviour. (NASDAQ to minimize losses in commissions).\n",
    "* Buy when the code says to do so. (Due to commissions many stocks of the same, instead of many different ones.)\n",
    "* Sell when the code says to sell the action.\n",
    "\n",
    "# Results and Experiment"
   ]
  },
  {
   "cell_type": "code",
   "execution_count": 21,
   "metadata": {},
   "outputs": [
    {
     "name": "stdout",
     "output_type": "stream",
     "text": [
      "        Money  Day\n",
      "Date              \n",
      "22-07  134.38    2\n",
      "23-07  134.54    2\n",
      "24-07  132.78    2\n"
     ]
    }
   ],
   "source": [
    "print(money.head())"
   ]
  },
  {
   "cell_type": "code",
   "execution_count": 24,
   "metadata": {},
   "outputs": [
    {
     "data": {
      "image/png": "[encoded data removed]",
      "text/plain": [
       "<Figure size 720x432 with 1 Axes>"
      ]
     },
     "metadata": {
      "needs_background": "light"
     },
     "output_type": "display_data"
    }
   ],
   "source": [
    "import seaborn as sns\n",
    "\n",
    "money=pd.read_csv(\"Money.csv\", index_col=\"Date\",parse_dates=True)\n",
    "plt.figure(figsize=(10,6))\n",
    "sns.lineplot(data=money['Money'])\n",
    "sns.regplot(x=money['Day'], y=money['Money'])\n",
    "\n",
    "plt.ylabel(\"Total value of the account (in euros)\")\n",
    "plt.title(\"Evolution of the value of the portfollio in Degiro\")\n",
    "\n",
    "plt.show()"
   ]
  },
  {
   "cell_type": "code",
   "execution_count": 6,
   "metadata": {},
   "outputs": [
    {
     "data": {
      "text/html": [
       "<div>\n",
       "<style scoped>\n",
       "    .dataframe tbody tr th:only-of-type {\n",
       "        vertical-align: middle;\n",
       "    }\n",
       "\n",
       "    .dataframe tbody tr th {\n",
       "        vertical-align: top;\n",
       "    }\n",
       "\n",
       "    .dataframe thead th {\n",
       "        text-align: right;\n",
       "    }\n",
       "</style>\n",
       "<table border=\"1\" class=\"dataframe\">\n",
       "  <thead>\n",
       "    <tr style=\"text-align: right;\">\n",
       "      <th></th>\n",
       "      <th>Money</th>\n",
       "    </tr>\n",
       "  </thead>\n",
       "  <tbody>\n",
       "    <tr>\n",
       "      <th>count</th>\n",
       "      <td>3.000000</td>\n",
       "    </tr>\n",
       "    <tr>\n",
       "      <th>mean</th>\n",
       "      <td>133.900000</td>\n",
       "    </tr>\n",
       "    <tr>\n",
       "      <th>std</th>\n",
       "      <td>0.973242</td>\n",
       "    </tr>\n",
       "    <tr>\n",
       "      <th>min</th>\n",
       "      <td>132.780000</td>\n",
       "    </tr>\n",
       "    <tr>\n",
       "      <th>25%</th>\n",
       "      <td>133.580000</td>\n",
       "    </tr>\n",
       "    <tr>\n",
       "      <th>50%</th>\n",
       "      <td>134.380000</td>\n",
       "    </tr>\n",
       "    <tr>\n",
       "      <th>75%</th>\n",
       "      <td>134.460000</td>\n",
       "    </tr>\n",
       "    <tr>\n",
       "      <th>max</th>\n",
       "      <td>134.540000</td>\n",
       "    </tr>\n",
       "  </tbody>\n",
       "</table>\n",
       "</div>"
      ],
      "text/plain": [
       "            Money\n",
       "count    3.000000\n",
       "mean   133.900000\n",
       "std      0.973242\n",
       "min    132.780000\n",
       "25%    133.580000\n",
       "50%    134.380000\n",
       "75%    134.460000\n",
       "max    134.540000"
      ]
     },
     "execution_count": 6,
     "metadata": {},
     "output_type": "execute_result"
    }
   ],
   "source": [
    "money.describe()"
   ]
  }
 ],
 "metadata": {
  "kernelspec": {
   "display_name": "Python 3",
   "language": "python",
   "name": "python3"
  },
  "language_info": {
   "codemirror_mode": {
    "name": "ipython",
    "version": 3
   },
   "file_extension": ".py",
   "mimetype": "text/x-python",
   "name": "python",
   "nbconvert_exporter": "python",
   "pygments_lexer": "ipython3",
   "version": "3.7.3"
  },
  "latex_envs": {
   "LaTeX_envs_menu_present": true,
   "autoclose": false,
   "autocomplete": true,
   "bibliofile": "biblio.bib",
   "cite_by": "apalike",
   "current_citInitial": 1,
   "eqLabelWithNumbers": true,
   "eqNumInitial": 1,
   "hotkeys": {
    "equation": "Ctrl-E",
    "itemize": "Ctrl-I"
   },
   "labels_anchors": false,
   "latex_user_defs": false,
   "report_style_numbering": false,
   "user_envs_cfg": false
  }
 },
 "nbformat": 4,
 "nbformat_minor": 2
}
