{
 "cells": [
  {
   "cell_type": "markdown",
   "metadata": {},
   "source": [
    "# <center>Exponential Moving Average stocks, and 15 days experiment</center>\n",
    "\n",
    "**Author:** João António - joaoantant@gmail.com \\& github.com/JoaoAnt/.\n",
    "\n",
    "**The ipybn can be found in:** the Github in the WaddlePortfolio/Projects."
   ]
  },
  {
   "cell_type": "markdown",
   "metadata": {},
   "source": [
    "# Degiro\n",
    "\n",
    "Degiro is a Dutch brokerage company, where Europeans can participate and are also one of the\n",
    "options with lesser values of commissions.\n",
    "\n",
    "They have a commission of 0.50 e + USD 0.004/action for buying and the same value for\n",
    "selling the action for American stocks.\n",
    "\n",
    "I’m choosing America, because it is the minimum commission, and also because it is easy to\n",
    "get data from.\n",
    "\n",
    "If the stock is not from the EFT free pool, extra commissions take place, the NASDAQ is one of\n",
    "those.\n",
    "\n",
    "# Obtain Data\n",
    "All the data is obtained in Alpha Vantage, to use it it is required a Key, that can be obtained free at\n",
    "their site, one key for email. Every key can use five calls by the minute, and five hundred calls by\n",
    "day.\n",
    "\n",
    "To collect data is only required the tokens of the respective stock, various sites present an\n",
    "extensive list.\n",
    "\n",
    "# Exponential Moving Average\n",
    "The Exponential Moving Average (EMA) is a type of technical analysis and is used in countless\n",
    "technical indicators. In a Simple Moving Average, each value in the period carries equal weight,\n",
    "and values outside of the period are not included in the average.\n",
    "\n",
    "However, the Exponential Moving Average is a cumulative calculation, including all data. Past\n",
    "values have a diminishing contribution to the average, while more recent values have a greater\n",
    "contribution. This method allows the moving average to be more responsive to changes in the\n",
    "data. Making the EMA method a very good indicator for long periods, for example, days or\n",
    "months.\n",
    "\n",
    "As for the mathematical description of the method:\n",
    "\n",
    "$$EMA_{Today}=Value_{Today} \\times \\frac{Smoothing}{1+Days}+EMA_{Yesterday}\\times(1-\\frac{Smoothing}{1+Days})$$"
   ]
  },
  {
   "cell_type": "code",
   "execution_count": 1,
   "metadata": {},
   "outputs": [],
   "source": [
    "import matplotlib.pyplot as plt\n",
    "import pandas as pd\n",
    "from alpha_vantage.timeseries import TimeSeries\n",
    "from time import sleep\n",
    "import csv\n",
    "ts = TimeSeries(key=AlphaVantageKey,output_format='pandas')\n",
    "counter=0;"
   ]
  },
  {
   "cell_type": "markdown",
   "metadata": {},
   "source": [
    "## Functions"
   ]
  },
  {
   "cell_type": "code",
   "execution_count": null,
   "metadata": {},
   "outputs": [],
   "source": [
    "def Analyse(ticker, counter, action):\n",
    "    counter+=1\n",
    "    if counter % 5==0:\n",
    "        sleep(60)\n",
    "    df, meta_data = ts.get_daily(symbol=ticker,outputsize='full')\n",
    "    df = df[['4. close']]\n",
    "    df.reset_index(level=0, inplace=True)\n",
    "    df.columns=['ds','y']\n",
    "    exp1 = df.y.ewm(span=12, adjust=False).mean()\n",
    "    exp2 = df.y.ewm(span=26, adjust=False).mean()\n",
    "    if action=='buy':\n",
    "        if exp1.iloc[-2]<exp2.iloc[-2]:\n",
    "            if exp1.iloc[-1]>=exp2.iloc[-1]:\n",
    "                print('Buy',ticker,',Close value',format(df['y'].iloc[-1],'.2f'),',dy',format(round(exp1.iloc[-1]-exp1.iloc[-2],3),'.2f'))\n",
    "    elif action=='sell':\n",
    "        if exp1.iloc[-1]<=exp2.iloc[-1]:\n",
    "            print('Sell',ticker,',Close value',format(df['y'].iloc[-1],'.2f'),',dy',format(round(exp1.iloc[-1]-exp1.iloc[-2],3),'.2f'),',dy2',format(round(exp2.iloc[-1]-exp2.iloc[-2],3),'.2f'))\n",
    "    print(ticker)    \n",
    "    return (counter)"
   ]
  },
  {
   "cell_type": "markdown",
   "metadata": {},
   "source": [
    "## To Sell"
   ]
  },
  {
   "cell_type": "code",
   "execution_count": null,
   "metadata": {},
   "outputs": [],
   "source": [
    "f = open('ToSell.csv', \"r\")\n",
    "tickers = f.read().split(\"\\n\")\n",
    "for i in range(0,(len(tickers)-1)):\n",
    "    ticker = tickers[i]\n",
    "    counter = Analyse(ticker, counter, 'sell')"
   ]
  },
  {
   "cell_type": "markdown",
   "metadata": {},
   "source": [
    "## To Buy"
   ]
  },
  {
   "cell_type": "code",
   "execution_count": null,
   "metadata": {
    "scrolled": false
   },
   "outputs": [],
   "source": [
    "f = open('ToBuy.csv', \"r\")\n",
    "tickers = f.read().split(\"\\n\")\n",
    "for i in range(0,(len(tickers)-1)):\n",
    "    ticker = tickers[i]\n",
    "    counter = Analyse(ticker, counter, 'buy')"
   ]
  },
  {
   "cell_type": "markdown",
   "metadata": {},
   "source": [
    "# Algorithm\n",
    "* Obtain tokens, for NASDAQ, and analyze behaviour. (NASDAQ to minimize losses in commissions).\n",
    "* Buy when the code says to do so. (Due to commissions many stocks of the same, instead of many different ones.)\n",
    "* Sell when the code says to sell the action.\n",
    "\n",
    "# Results and Experiment"
   ]
  },
  {
   "cell_type": "code",
   "execution_count": 2,
   "metadata": {},
   "outputs": [
    {
     "data": {
      "text/html": [
       "<div>\n",
       "<style scoped>\n",
       "    .dataframe tbody tr th:only-of-type {\n",
       "        vertical-align: middle;\n",
       "    }\n",
       "\n",
       "    .dataframe tbody tr th {\n",
       "        vertical-align: top;\n",
       "    }\n",
       "\n",
       "    .dataframe thead th {\n",
       "        text-align: right;\n",
       "    }\n",
       "</style>\n",
       "<table border=\"1\" class=\"dataframe\">\n",
       "  <thead>\n",
       "    <tr style=\"text-align: right;\">\n",
       "      <th></th>\n",
       "      <th>Results</th>\n",
       "    </tr>\n",
       "  </thead>\n",
       "  <tbody>\n",
       "    <tr>\n",
       "      <th>count</th>\n",
       "      <td>15.000000</td>\n",
       "    </tr>\n",
       "    <tr>\n",
       "      <th>mean</th>\n",
       "      <td>165.184667</td>\n",
       "    </tr>\n",
       "    <tr>\n",
       "      <th>std</th>\n",
       "      <td>7.518974</td>\n",
       "    </tr>\n",
       "    <tr>\n",
       "      <th>min</th>\n",
       "      <td>151.190000</td>\n",
       "    </tr>\n",
       "    <tr>\n",
       "      <th>25%</th>\n",
       "      <td>159.220000</td>\n",
       "    </tr>\n",
       "    <tr>\n",
       "      <th>50%</th>\n",
       "      <td>168.350000</td>\n",
       "    </tr>\n",
       "    <tr>\n",
       "      <th>75%</th>\n",
       "      <td>171.705000</td>\n",
       "    </tr>\n",
       "    <tr>\n",
       "      <th>max</th>\n",
       "      <td>174.110000</td>\n",
       "    </tr>\n",
       "  </tbody>\n",
       "</table>\n",
       "</div>"
      ],
      "text/plain": [
       "          Results\n",
       "count   15.000000\n",
       "mean   165.184667\n",
       "std      7.518974\n",
       "min    151.190000\n",
       "25%    159.220000\n",
       "50%    168.350000\n",
       "75%    171.705000\n",
       "max    174.110000"
      ]
     },
     "execution_count": 2,
     "metadata": {},
     "output_type": "execute_result"
    },
    {
     "data": {
      "image/png": "[encoded data removed]",
      "text/plain": [
       "<Figure size 432x288 with 1 Axes>"
      ]
     },
     "metadata": {
      "needs_background": "light"
     },
     "output_type": "display_data"
    }
   ],
   "source": [
    "money=pd.read_csv(\"Money.csv\")\n",
    "money.plot()\n",
    "money.describe()"
   ]
  },
  {
   "cell_type": "markdown",
   "metadata": {},
   "source": [
    "As we can see for some time the money grew, but after a while returned to the initial value,\n",
    "and we manage to end the last with even less money when compared to the starting position.\n",
    "\n",
    "If we were able to ignore the commissions, the method would present an actual growing of\n",
    "money. With the commissions, however, the money was more or less constant.\n",
    "\n",
    "A more profitable approach was to join the EMA for days with a method of intraday analysis.\n",
    "Overall it is interesting but not quite enough."
   ]
  }
 ],
 "metadata": {
  "kernelspec": {
   "display_name": "Python 3",
   "language": "python",
   "name": "python3"
  },
  "language_info": {
   "codemirror_mode": {
    "name": "ipython",
    "version": 3
   },
   "file_extension": ".py",
   "mimetype": "text/x-python",
   "name": "python",
   "nbconvert_exporter": "python",
   "pygments_lexer": "ipython3",
   "version": "3.7.3"
  },
  "latex_envs": {
   "LaTeX_envs_menu_present": true,
   "autoclose": false,
   "autocomplete": true,
   "bibliofile": "biblio.bib",
   "cite_by": "apalike",
   "current_citInitial": 1,
   "eqLabelWithNumbers": true,
   "eqNumInitial": 1,
   "hotkeys": {
    "equation": "Ctrl-E",
    "itemize": "Ctrl-I"
   },
   "labels_anchors": false,
   "latex_user_defs": false,
   "report_style_numbering": false,
   "user_envs_cfg": false
  }
 },
 "nbformat": 4,
 "nbformat_minor": 2
}
